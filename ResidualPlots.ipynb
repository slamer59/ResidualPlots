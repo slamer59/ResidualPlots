{
 "cells": [
  {
   "cell_type": "code",
   "execution_count": 3,
   "metadata": {
    "collapsed": false
   },
   "outputs": [],
   "source": [
    "import numpy as np"
   ]
  },
  {
   "cell_type": "code",
   "execution_count": 8,
   "metadata": {
    "collapsed": false
   },
   "outputs": [],
   "source": [
    "from bokeh.layouts import gridplot\n",
    "from bokeh.plotting import figure, output_notebook, show\n",
    "from bokeh.models import ColumnDataSource\n",
    "from cradleProcess.cradleLogReader import CradleLogReader"
   ]
  },
  {
   "cell_type": "code",
   "execution_count": 14,
   "metadata": {
    "collapsed": true
   },
   "outputs": [],
   "source": [
    "import os\n",
    "\n",
    "xmlFilename = os.getcwd() + os.sep + 'Datas' + os.sep + '20170120-143947-20170120-143947.l'\n",
    "LFile = CradleLogReader(xmlFilename, residualExtraction=True)"
   ]
  },
  {
   "cell_type": "code",
   "execution_count": 17,
   "metadata": {
    "collapsed": true
   },
   "outputs": [
    {
     "name": "stdout",
     "output_type": "stream",
     "text": [
      "Not implemented PSEUDO DT\nNot implemented MATRIX STATUS\nNot implemented MIN-MAX OUTPUT\nNot implemented BOUNDARY FLOW RATE\nNot implemented YPLUS MIN-MAX\nNot implemented YPLUS DISTRIBUTION\nNot implemented SECTION FLOW RATE\n"
     ]
    }
   ],
   "source": [
    "LFile.extractVariables()"
   ]
  },
  {
   "cell_type": "code",
   "execution_count": 18,
   "metadata": {
    "collapsed": true
   },
   "outputs": [],
   "source": [
    "varNames, numVars, varMin, varMax, varResidual = LFile.getResiduals()"
   ]
  },
  {
   "cell_type": "code",
   "execution_count": null,
   "metadata": {
    "collapsed": true
   },
   "outputs": [],
   "source": [
    "            # numberOfParts = LFile.getNumberOfParts()\n",
    "            # partsHeatBalanced, tempBtwParts = LFile.getHeatBalance()\n",
    "            # \n",
    "            # test = LFile.getSeriesData('V')\n",
    "            # average = LFile.getPartAverage('TEMP')\n",
    "            # \n",
    "            # print LFile.getRegionName()"
   ]
  },
  {
   "cell_type": "code",
   "execution_count": 5,
   "metadata": {
    "collapsed": false
   },
   "outputs": [
    {
     "data": {
      "text/html": [
       "\n",
       "    <div class=\"bk-root\">\n",
       "        <a href=\"http://bokeh.pydata.org\" target=\"_blank\" class=\"bk-logo bk-logo-small bk-logo-notebook\"></a>\n",
       "        <span id=\"c5b7d5b5-5119-4a6d-9a75-d09ea03cc4f1\">Loading BokehJS ...</span>\n",
       "    </div>"
      ]
     },
     "metadata": {},
     "output_type": "execute_result"
    },
    {
     "data": {},
     "metadata": {},
     "output_type": "display_data"
    }
   ],
   "source": [
    "output_notebook()"
   ]
  },
  {
   "cell_type": "code",
   "execution_count": 6,
   "metadata": {
    "collapsed": true
   },
   "outputs": [],
   "source": [
    "x = list(range(11))\n",
    "y0 = x\n",
    "y1 = [10-xx for xx in x]\n",
    "y2 = [abs(xx-5) for xx in x]"
   ]
  },
  {
   "cell_type": "code",
   "execution_count": 7,
   "metadata": {
    "collapsed": false
   },
   "outputs": [
    {
     "data": {
      "text/html": [
       "<div style=\"display: table;\"><div style=\"display: table-row;\"><div style=\"display: table-cell;\"><b title=\"bokeh.models.renderers.GlyphRenderer\">GlyphRenderer</b>(</div><div style=\"display: table-cell;\">id&nbsp;=&nbsp;'982b503e-083a-4f54-a4e0-30b81d2488d8', <span id=\"6b7680a1-f2a2-4366-8a43-b70cb665824c\" style=\"cursor: pointer;\">&hellip;)</span></div></div><div class=\"e70b3f69-ccf7-4716-a228-ee2bbe0348dd\" style=\"display: none;\"><div style=\"display: table-cell;\"></div><div style=\"display: table-cell;\">data_source&nbsp;=&nbsp;ColumnDataSource(id='ec59cc8c-ab4f-48d0-b7b7-8a391cf45bd6', ...),</div></div><div class=\"e70b3f69-ccf7-4716-a228-ee2bbe0348dd\" style=\"display: none;\"><div style=\"display: table-cell;\"></div><div style=\"display: table-cell;\">glyph&nbsp;=&nbsp;Square(id='7a602203-dad9-4068-a2e2-5121fbc1c41b', ...),</div></div><div class=\"e70b3f69-ccf7-4716-a228-ee2bbe0348dd\" style=\"display: none;\"><div style=\"display: table-cell;\"></div><div style=\"display: table-cell;\">hover_glyph&nbsp;=&nbsp;None,</div></div><div class=\"e70b3f69-ccf7-4716-a228-ee2bbe0348dd\" style=\"display: none;\"><div style=\"display: table-cell;\"></div><div style=\"display: table-cell;\">js_callbacks&nbsp;=&nbsp;{},</div></div><div class=\"e70b3f69-ccf7-4716-a228-ee2bbe0348dd\" style=\"display: none;\"><div style=\"display: table-cell;\"></div><div style=\"display: table-cell;\">level&nbsp;=&nbsp;'glyph',</div></div><div class=\"e70b3f69-ccf7-4716-a228-ee2bbe0348dd\" style=\"display: none;\"><div style=\"display: table-cell;\"></div><div style=\"display: table-cell;\">name&nbsp;=&nbsp;None,</div></div><div class=\"e70b3f69-ccf7-4716-a228-ee2bbe0348dd\" style=\"display: none;\"><div style=\"display: table-cell;\"></div><div style=\"display: table-cell;\">nonselection_glyph&nbsp;=&nbsp;Square(id='da97d0c5-b6d8-4f38-9f74-4d54225b4bdc', ...),</div></div><div class=\"e70b3f69-ccf7-4716-a228-ee2bbe0348dd\" style=\"display: none;\"><div style=\"display: table-cell;\"></div><div style=\"display: table-cell;\">selection_glyph&nbsp;=&nbsp;None,</div></div><div class=\"e70b3f69-ccf7-4716-a228-ee2bbe0348dd\" style=\"display: none;\"><div style=\"display: table-cell;\"></div><div style=\"display: table-cell;\">tags&nbsp;=&nbsp;[],</div></div><div class=\"e70b3f69-ccf7-4716-a228-ee2bbe0348dd\" style=\"display: none;\"><div style=\"display: table-cell;\"></div><div style=\"display: table-cell;\">visible&nbsp;=&nbsp;True,</div></div><div class=\"e70b3f69-ccf7-4716-a228-ee2bbe0348dd\" style=\"display: none;\"><div style=\"display: table-cell;\"></div><div style=\"display: table-cell;\">x_range_name&nbsp;=&nbsp;'default',</div></div><div class=\"e70b3f69-ccf7-4716-a228-ee2bbe0348dd\" style=\"display: none;\"><div style=\"display: table-cell;\"></div><div style=\"display: table-cell;\">y_range_name&nbsp;=&nbsp;'default')</div></div></div>\n",
       "<script>\n",
       "(function() {\n",
       "  var expanded = false;\n",
       "  var ellipsis = document.getElementById(\"6b7680a1-f2a2-4366-8a43-b70cb665824c\");\n",
       "  ellipsis.addEventListener(\"click\", function() {\n",
       "    var rows = document.getElementsByClassName(\"e70b3f69-ccf7-4716-a228-ee2bbe0348dd\");\n",
       "    for (var i = 0; i < rows.length; i++) {\n",
       "      var el = rows[i];\n",
       "      el.style.display = expanded ? \"none\" : \"table-row\";\n",
       "    }\n",
       "    ellipsis.innerHTML = expanded ? \"&hellip;)\" : \"&lsaquo;&lsaquo;&lsaquo;\";\n",
       "    expanded = !expanded;\n",
       "  });\n",
       "})();\n",
       "</script>\n"
      ],
      "text/plain": [
       "GlyphRenderer(id='982b503e-083a-4f54-a4e0-30b81d2488d8', ...)"
      ]
     },
     "execution_count": 7,
     "metadata": {},
     "output_type": "execute_result"
    }
   ],
   "source": [
    "# create a new plot\n",
    "s1 = figure(width=250, plot_height=250, title=None)\n",
    "s1.circle(x, y0, size=10, color=\"navy\", alpha=0.5)\n",
    "\n",
    "# Linked panning in Bokeh is expressed by sharing ranges between\n",
    "# plots. Note below that s2 is reated with the `x_range` and `y_range` \n",
    "# keyword arguments, and supplied with the same ranges from s1. Here, \n",
    "# this links both axes together.\n",
    "s2 = figure(width=250, height=250, x_range=s1.x_range, y_range=s1.y_range, title=None)\n",
    "s2.triangle(x, y1, size=10, color=\"firebrick\", alpha=0.5)\n",
    "\n",
    "# It is possible to share just one range or the other, to link plots\n",
    "# along only one dimension. For the third plot, we only link the x-axis\n",
    "s3 = figure(width=250, height=250, x_range=s1.x_range, title=None)\n",
    "s3.square(x, y2, size=10, color=\"olive\", alpha=0.5)"
   ]
  },
  {
   "cell_type": "code",
   "execution_count": 8,
   "metadata": {
    "collapsed": true
   },
   "outputs": [],
   "source": [
    "# by default we can't pan outside the range of the data. Disable bounds for this demo\n",
    "s1.x_range.bounds = s2.x_range.bounds = s2.x_range.bounds = None\n",
    "s1.y_range.bounds = s2.y_range.bounds = s2.y_range.bounds = None"
   ]
  },
  {
   "cell_type": "code",
   "execution_count": 9,
   "metadata": {
    "collapsed": false
   },
   "outputs": [
    {
     "data": {
      "text/html": [
       "\n",
       "\n",
       "    <div class=\"bk-root\">\n",
       "        <div class=\"bk-plotdiv\" id=\"bedca155-8bb6-4692-8c21-bc738817cf69\"></div>\n",
       "    </div>\n",
       "<script type=\"text/javascript\">\n",
       "  \n",
       "  (function(global) {\n",
       "    function now() {\n",
       "      return new Date();\n",
       "    }\n",
       "  \n",
       "    var force = false;\n",
       "  \n",
       "    if (typeof (window._bokeh_onload_callbacks) === \"undefined\" || force === true) {\n",
       "      window._bokeh_onload_callbacks = [];\n",
       "      window._bokeh_is_loading = undefined;\n",
       "    }\n",
       "  \n",
       "  \n",
       "    \n",
       "    if (typeof (window._bokeh_timeout) === \"undefined\" || force === true) {\n",
       "      window._bokeh_timeout = Date.now() + 0;\n",
       "      window._bokeh_failed_load = false;\n",
       "    }\n",
       "  \n",
       "    var NB_LOAD_WARNING = {'data': {'text/html':\n",
       "       \"<div style='background-color: #fdd'>\\n\"+\n",
       "       \"<p>\\n\"+\n",
       "       \"BokehJS does not appear to have successfully loaded. If loading BokehJS from CDN, this \\n\"+\n",
       "       \"may be due to a slow or bad network connection. Possible fixes:\\n\"+\n",
       "       \"</p>\\n\"+\n",
       "       \"<ul>\\n\"+\n",
       "       \"<li>re-rerun `output_notebook()` to attempt to load from CDN again, or</li>\\n\"+\n",
       "       \"<li>use INLINE resources instead, as so:</li>\\n\"+\n",
       "       \"</ul>\\n\"+\n",
       "       \"<code>\\n\"+\n",
       "       \"from bokeh.resources import INLINE\\n\"+\n",
       "       \"output_notebook(resources=INLINE)\\n\"+\n",
       "       \"</code>\\n\"+\n",
       "       \"</div>\"}};\n",
       "  \n",
       "    function display_loaded() {\n",
       "      if (window.Bokeh !== undefined) {\n",
       "        document.getElementById(\"bedca155-8bb6-4692-8c21-bc738817cf69\").textContent = \"BokehJS successfully loaded.\";\n",
       "      } else if (Date.now() < window._bokeh_timeout) {\n",
       "        setTimeout(display_loaded, 100)\n",
       "      }\n",
       "    }\n",
       "  \n",
       "    function run_callbacks() {\n",
       "      window._bokeh_onload_callbacks.forEach(function(callback) { callback() });\n",
       "      delete window._bokeh_onload_callbacks\n",
       "      console.info(\"Bokeh: all callbacks have finished\");\n",
       "    }\n",
       "  \n",
       "    function load_libs(js_urls, callback) {\n",
       "      window._bokeh_onload_callbacks.push(callback);\n",
       "      if (window._bokeh_is_loading > 0) {\n",
       "        console.log(\"Bokeh: BokehJS is being loaded, scheduling callback at\", now());\n",
       "        return null;\n",
       "      }\n",
       "      if (js_urls == null || js_urls.length === 0) {\n",
       "        run_callbacks();\n",
       "        return null;\n",
       "      }\n",
       "      console.log(\"Bokeh: BokehJS not loaded, scheduling load and callback at\", now());\n",
       "      window._bokeh_is_loading = js_urls.length;\n",
       "      for (var i = 0; i < js_urls.length; i++) {\n",
       "        var url = js_urls[i];\n",
       "        var s = document.createElement('script');\n",
       "        s.src = url;\n",
       "        s.async = false;\n",
       "        s.onreadystatechange = s.onload = function() {\n",
       "          window._bokeh_is_loading--;\n",
       "          if (window._bokeh_is_loading === 0) {\n",
       "            console.log(\"Bokeh: all BokehJS libraries loaded\");\n",
       "            run_callbacks()\n",
       "          }\n",
       "        };\n",
       "        s.onerror = function() {\n",
       "          console.warn(\"failed to load library \" + url);\n",
       "        };\n",
       "        console.log(\"Bokeh: injecting script tag for BokehJS library: \", url);\n",
       "        document.getElementsByTagName(\"head\")[0].appendChild(s);\n",
       "      }\n",
       "    };var element = document.getElementById(\"bedca155-8bb6-4692-8c21-bc738817cf69\");\n",
       "    if (element == null) {\n",
       "      console.log(\"Bokeh: ERROR: autoload.js configured with elementid 'bedca155-8bb6-4692-8c21-bc738817cf69' but no matching script tag was found. \")\n",
       "      return false;\n",
       "    }\n",
       "  \n",
       "    var js_urls = [];\n",
       "  \n",
       "    var inline_js = [\n",
       "      function(Bokeh) {\n",
       "        (function() {\n",
       "          var fn = function() {\n",
       "            var docs_json = {\"53a769a0-36cb-4c84-938d-55e3de19844d\":{\"roots\":{\"references\":[{\"attributes\":{\"active_drag\":\"auto\",\"active_scroll\":\"auto\",\"active_tap\":\"auto\",\"tools\":[{\"id\":\"3bf95c36-4960-4ab1-9ac3-3fab67716c8f\",\"type\":\"PanTool\"},{\"id\":\"c800a253-2fa7-46ec-96a3-1e1815e36645\",\"type\":\"WheelZoomTool\"},{\"id\":\"f57eab80-d1f6-4e81-b712-86792e2bf083\",\"type\":\"BoxZoomTool\"},{\"id\":\"f0f9e46f-57b0-4663-9bc6-983079d3e45e\",\"type\":\"SaveTool\"},{\"id\":\"526463d1-0f96-49a8-ba23-b0bb768d7c26\",\"type\":\"ResetTool\"},{\"id\":\"08fa940c-4a81-40aa-bb9c-121fc1c5aa40\",\"type\":\"HelpTool\"}]},\"id\":\"a37c2d20-538b-46f2-a28b-42edcd23b133\",\"type\":\"Toolbar\"},{\"attributes\":{\"bottom_units\":\"screen\",\"fill_alpha\":{\"value\":0.5},\"fill_color\":{\"value\":\"lightgrey\"},\"left_units\":\"screen\",\"level\":\"overlay\",\"line_alpha\":{\"value\":1.0},\"line_color\":{\"value\":\"black\"},\"line_dash\":[4,4],\"line_width\":{\"value\":2},\"plot\":null,\"render_mode\":\"css\",\"right_units\":\"screen\",\"top_units\":\"screen\"},\"id\":\"84a6c420-7d79-4797-89f0-a279ff61d661\",\"type\":\"BoxAnnotation\"},{\"attributes\":{\"data_source\":{\"id\":\"fa56a9b3-54c9-48c9-9df0-12386b1db753\",\"type\":\"ColumnDataSource\"},\"glyph\":{\"id\":\"0801f92d-e535-49f0-8067-1b2ec55fabdb\",\"type\":\"Triangle\"},\"hover_glyph\":null,\"nonselection_glyph\":{\"id\":\"8ff2c853-8e59-4be5-b22d-53678b2bea98\",\"type\":\"Triangle\"},\"selection_glyph\":null},\"id\":\"368c9bbf-bc1a-4d20-a503-22d0888b6892\",\"type\":\"GlyphRenderer\"},{\"attributes\":{\"children\":[{\"id\":\"6da9a07c-06fa-4e3d-8353-2de75223bd03\",\"type\":\"Row\"}]},\"id\":\"eef6aaf8-b63e-46bf-9a3b-b908d2ae8f1f\",\"type\":\"Column\"},{\"attributes\":{\"fill_alpha\":{\"value\":0.1},\"fill_color\":{\"value\":\"#1f77b4\"},\"line_alpha\":{\"value\":0.1},\"line_color\":{\"value\":\"#1f77b4\"},\"size\":{\"units\":\"screen\",\"value\":10},\"x\":{\"field\":\"x\"},\"y\":{\"field\":\"y\"}},\"id\":\"8ff2c853-8e59-4be5-b22d-53678b2bea98\",\"type\":\"Triangle\"},{\"attributes\":{},\"id\":\"521ccaf9-8c9e-4739-b8fc-36b09a91dd6c\",\"type\":\"BasicTickFormatter\"},{\"attributes\":{\"plot\":{\"id\":\"db992e78-a905-4792-a3b6-ebed8c73edf2\",\"subtype\":\"Figure\",\"type\":\"Plot\"}},\"id\":\"42c594fd-baa8-4683-8819-e35841424e18\",\"type\":\"PanTool\"},{\"attributes\":{},\"id\":\"05531842-2c6e-4299-bcd6-c71c686223af\",\"type\":\"BasicTicker\"},{\"attributes\":{\"plot\":{\"id\":\"db992e78-a905-4792-a3b6-ebed8c73edf2\",\"subtype\":\"Figure\",\"type\":\"Plot\"}},\"id\":\"9de7dc53-e535-4785-8c78-bcf15f2277a0\",\"type\":\"ResetTool\"},{\"attributes\":{\"fill_alpha\":{\"value\":0.5},\"fill_color\":{\"value\":\"navy\"},\"line_alpha\":{\"value\":0.5},\"line_color\":{\"value\":\"navy\"},\"size\":{\"units\":\"screen\",\"value\":10},\"x\":{\"field\":\"x\"},\"y\":{\"field\":\"y\"}},\"id\":\"1436d531-46a5-4051-9466-c76370c9f378\",\"type\":\"Circle\"},{\"attributes\":{\"plot\":{\"id\":\"17b8c61c-a34a-4998-90c9-8532ec283b29\",\"subtype\":\"Figure\",\"type\":\"Plot\"}},\"id\":\"cd56e888-fedf-45e4-a018-39d910cfa4de\",\"type\":\"SaveTool\"},{\"attributes\":{},\"id\":\"36083efd-59fd-4957-abdd-7b59768b6498\",\"type\":\"BasicTickFormatter\"},{\"attributes\":{\"active_drag\":\"auto\",\"active_scroll\":\"auto\",\"active_tap\":\"auto\",\"tools\":[{\"id\":\"c9f46a1a-4d30-4b46-a80a-1c2729ff1e13\",\"type\":\"PanTool\"},{\"id\":\"391e0b96-cb5f-4fe8-96c8-4e60302e1b9a\",\"type\":\"WheelZoomTool\"},{\"id\":\"77a0b57f-51ab-4b2a-88be-10ca4b87bb3f\",\"type\":\"BoxZoomTool\"},{\"id\":\"cd56e888-fedf-45e4-a018-39d910cfa4de\",\"type\":\"SaveTool\"},{\"id\":\"f302f96e-41b1-4e8d-a63d-274d159e3a01\",\"type\":\"ResetTool\"},{\"id\":\"e85a9a7d-5696-4d9b-bb11-feb7bf4e3154\",\"type\":\"HelpTool\"}]},\"id\":\"a36e0537-8a13-4c16-9347-61a05f666f01\",\"type\":\"Toolbar\"},{\"attributes\":{\"callback\":null,\"column_names\":[\"y\",\"x\"],\"data\":{\"x\":[0,1,2,3,4,5,6,7,8,9,10],\"y\":[0,1,2,3,4,5,6,7,8,9,10]}},\"id\":\"b72e78cd-7056-4221-9d8b-540a16b63879\",\"type\":\"ColumnDataSource\"},{\"attributes\":{},\"id\":\"062c90d4-31b1-4e53-82fb-1051e017f8e6\",\"type\":\"BasicTickFormatter\"},{\"attributes\":{\"below\":[{\"id\":\"9b8391b4-5a88-411f-8b34-e4aebe1284db\",\"type\":\"LinearAxis\"}],\"left\":[{\"id\":\"062cd204-1100-4e6a-af04-47f2031720a3\",\"type\":\"LinearAxis\"}],\"plot_height\":250,\"plot_width\":250,\"renderers\":[{\"id\":\"9b8391b4-5a88-411f-8b34-e4aebe1284db\",\"type\":\"LinearAxis\"},{\"id\":\"5311ffff-4cfc-4c06-b492-35c18cdce20c\",\"type\":\"Grid\"},{\"id\":\"062cd204-1100-4e6a-af04-47f2031720a3\",\"type\":\"LinearAxis\"},{\"id\":\"82798a4f-a655-4ad7-9b04-c4f2a7be39c9\",\"type\":\"Grid\"},{\"id\":\"ab2a04f8-28f6-40d8-8516-1887496354d0\",\"type\":\"BoxAnnotation\"},{\"id\":\"368c9bbf-bc1a-4d20-a503-22d0888b6892\",\"type\":\"GlyphRenderer\"}],\"title\":null,\"tool_events\":{\"id\":\"fe067827-d96b-4c88-ba3c-a3c91c61e7b1\",\"type\":\"ToolEvents\"},\"toolbar\":{\"id\":\"2747242e-2225-46de-8f5c-529d4a78138a\",\"type\":\"Toolbar\"},\"toolbar_location\":null,\"x_range\":{\"id\":\"9f51c16d-458e-40c6-94da-01def03350ee\",\"type\":\"DataRange1d\"},\"y_range\":{\"id\":\"fbd98b0b-f0d1-40cb-a050-d92f4aded552\",\"type\":\"DataRange1d\"}},\"id\":\"db992e78-a905-4792-a3b6-ebed8c73edf2\",\"subtype\":\"Figure\",\"type\":\"Plot\"},{\"attributes\":{\"plot\":{\"id\":\"0c89ca53-4083-437c-b52a-037f91392a71\",\"subtype\":\"Figure\",\"type\":\"Plot\"}},\"id\":\"c800a253-2fa7-46ec-96a3-1e1815e36645\",\"type\":\"WheelZoomTool\"},{\"attributes\":{\"overlay\":{\"id\":\"7ffc8b05-f28e-4337-a47e-cf865ea20136\",\"type\":\"BoxAnnotation\"},\"plot\":{\"id\":\"17b8c61c-a34a-4998-90c9-8532ec283b29\",\"subtype\":\"Figure\",\"type\":\"Plot\"}},\"id\":\"77a0b57f-51ab-4b2a-88be-10ca4b87bb3f\",\"type\":\"BoxZoomTool\"},{\"attributes\":{\"formatter\":{\"id\":\"521ccaf9-8c9e-4739-b8fc-36b09a91dd6c\",\"type\":\"BasicTickFormatter\"},\"plot\":{\"id\":\"db992e78-a905-4792-a3b6-ebed8c73edf2\",\"subtype\":\"Figure\",\"type\":\"Plot\"},\"ticker\":{\"id\":\"35eb30fe-b867-4d59-adaa-c5be315498b0\",\"type\":\"BasicTicker\"}},\"id\":\"9b8391b4-5a88-411f-8b34-e4aebe1284db\",\"type\":\"LinearAxis\"},{\"attributes\":{\"callback\":null,\"column_names\":[\"y\",\"x\"],\"data\":{\"x\":[0,1,2,3,4,5,6,7,8,9,10],\"y\":[10,9,8,7,6,5,4,3,2,1,0]}},\"id\":\"fa56a9b3-54c9-48c9-9df0-12386b1db753\",\"type\":\"ColumnDataSource\"},{\"attributes\":{\"plot\":{\"id\":\"db992e78-a905-4792-a3b6-ebed8c73edf2\",\"subtype\":\"Figure\",\"type\":\"Plot\"},\"ticker\":{\"id\":\"35eb30fe-b867-4d59-adaa-c5be315498b0\",\"type\":\"BasicTicker\"}},\"id\":\"5311ffff-4cfc-4c06-b492-35c18cdce20c\",\"type\":\"Grid\"},{\"attributes\":{\"dimension\":1,\"plot\":{\"id\":\"db992e78-a905-4792-a3b6-ebed8c73edf2\",\"subtype\":\"Figure\",\"type\":\"Plot\"},\"ticker\":{\"id\":\"05531842-2c6e-4299-bcd6-c71c686223af\",\"type\":\"BasicTicker\"}},\"id\":\"82798a4f-a655-4ad7-9b04-c4f2a7be39c9\",\"type\":\"Grid\"},{\"attributes\":{\"callback\":null},\"id\":\"a757dd79-1707-4975-be80-08b080d30c50\",\"type\":\"DataRange1d\"},{\"attributes\":{},\"id\":\"35eb30fe-b867-4d59-adaa-c5be315498b0\",\"type\":\"BasicTicker\"},{\"attributes\":{\"plot\":{\"id\":\"17b8c61c-a34a-4998-90c9-8532ec283b29\",\"subtype\":\"Figure\",\"type\":\"Plot\"}},\"id\":\"c9f46a1a-4d30-4b46-a80a-1c2729ff1e13\",\"type\":\"PanTool\"},{\"attributes\":{},\"id\":\"a930be11-2bcb-4c9d-b709-6aec7363b923\",\"type\":\"BasicTickFormatter\"},{\"attributes\":{},\"id\":\"6a49d55e-0b33-4c55-8907-3951b6f0bf04\",\"type\":\"BasicTicker\"},{\"attributes\":{\"dimension\":1,\"plot\":{\"id\":\"17b8c61c-a34a-4998-90c9-8532ec283b29\",\"subtype\":\"Figure\",\"type\":\"Plot\"},\"ticker\":{\"id\":\"6a49d55e-0b33-4c55-8907-3951b6f0bf04\",\"type\":\"BasicTicker\"}},\"id\":\"0534c091-da38-4649-bb4e-99df5909eb5e\",\"type\":\"Grid\"},{\"attributes\":{\"plot\":{\"id\":\"17b8c61c-a34a-4998-90c9-8532ec283b29\",\"subtype\":\"Figure\",\"type\":\"Plot\"},\"ticker\":{\"id\":\"f292065e-c5b6-4ddb-beae-606bbc68c1a9\",\"type\":\"BasicTicker\"}},\"id\":\"a6e25137-1767-4e0f-9901-ded003162f5d\",\"type\":\"Grid\"},{\"attributes\":{\"formatter\":{\"id\":\"dd38d60c-2c6c-4793-acb9-25605f358df1\",\"type\":\"BasicTickFormatter\"},\"plot\":{\"id\":\"17b8c61c-a34a-4998-90c9-8532ec283b29\",\"subtype\":\"Figure\",\"type\":\"Plot\"},\"ticker\":{\"id\":\"6a49d55e-0b33-4c55-8907-3951b6f0bf04\",\"type\":\"BasicTicker\"}},\"id\":\"7e30d35a-3e5c-47bc-ae22-4b89899f4138\",\"type\":\"LinearAxis\"},{\"attributes\":{\"callback\":null,\"column_names\":[\"y\",\"x\"],\"data\":{\"x\":[0,1,2,3,4,5,6,7,8,9,10],\"y\":[5,4,3,2,1,0,1,2,3,4,5]}},\"id\":\"ec59cc8c-ab4f-48d0-b7b7-8a391cf45bd6\",\"type\":\"ColumnDataSource\"},{\"attributes\":{\"children\":[{\"id\":\"17b8c61c-a34a-4998-90c9-8532ec283b29\",\"subtype\":\"Figure\",\"type\":\"Plot\"},{\"id\":\"db992e78-a905-4792-a3b6-ebed8c73edf2\",\"subtype\":\"Figure\",\"type\":\"Plot\"},{\"id\":\"0c89ca53-4083-437c-b52a-037f91392a71\",\"subtype\":\"Figure\",\"type\":\"Plot\"}]},\"id\":\"6da9a07c-06fa-4e3d-8353-2de75223bd03\",\"type\":\"Row\"},{\"attributes\":{},\"id\":\"39a33b43-6949-411c-92d0-1294c72a905f\",\"type\":\"BasicTickFormatter\"},{\"attributes\":{\"fill_alpha\":{\"value\":0.5},\"fill_color\":{\"value\":\"olive\"},\"line_alpha\":{\"value\":0.5},\"line_color\":{\"value\":\"olive\"},\"size\":{\"units\":\"screen\",\"value\":10},\"x\":{\"field\":\"x\"},\"y\":{\"field\":\"y\"}},\"id\":\"7a602203-dad9-4068-a2e2-5121fbc1c41b\",\"type\":\"Square\"},{\"attributes\":{},\"id\":\"f292065e-c5b6-4ddb-beae-606bbc68c1a9\",\"type\":\"BasicTicker\"},{\"attributes\":{\"plot\":{\"id\":\"0c89ca53-4083-437c-b52a-037f91392a71\",\"subtype\":\"Figure\",\"type\":\"Plot\"}},\"id\":\"f0f9e46f-57b0-4663-9bc6-983079d3e45e\",\"type\":\"SaveTool\"},{\"attributes\":{\"formatter\":{\"id\":\"36083efd-59fd-4957-abdd-7b59768b6498\",\"type\":\"BasicTickFormatter\"},\"plot\":{\"id\":\"17b8c61c-a34a-4998-90c9-8532ec283b29\",\"subtype\":\"Figure\",\"type\":\"Plot\"},\"ticker\":{\"id\":\"f292065e-c5b6-4ddb-beae-606bbc68c1a9\",\"type\":\"BasicTicker\"}},\"id\":\"bfe6a6e4-eb43-499d-83ab-3a880d32ae28\",\"type\":\"LinearAxis\"},{\"attributes\":{},\"id\":\"6602b010-aa71-4cc9-bf96-8354160e9a26\",\"type\":\"BasicTicker\"},{\"attributes\":{\"overlay\":{\"id\":\"84a6c420-7d79-4797-89f0-a279ff61d661\",\"type\":\"BoxAnnotation\"},\"plot\":{\"id\":\"0c89ca53-4083-437c-b52a-037f91392a71\",\"subtype\":\"Figure\",\"type\":\"Plot\"}},\"id\":\"f57eab80-d1f6-4e81-b712-86792e2bf083\",\"type\":\"BoxZoomTool\"},{\"attributes\":{\"formatter\":{\"id\":\"062c90d4-31b1-4e53-82fb-1051e017f8e6\",\"type\":\"BasicTickFormatter\"},\"plot\":{\"id\":\"0c89ca53-4083-437c-b52a-037f91392a71\",\"subtype\":\"Figure\",\"type\":\"Plot\"},\"ticker\":{\"id\":\"fe4a1f09-b0d2-4a8e-a53e-d796e6e32767\",\"type\":\"BasicTicker\"}},\"id\":\"b02fef23-84bc-4c61-9b09-5c58b7e40f95\",\"type\":\"LinearAxis\"},{\"attributes\":{\"below\":[{\"id\":\"bfe6a6e4-eb43-499d-83ab-3a880d32ae28\",\"type\":\"LinearAxis\"}],\"left\":[{\"id\":\"7e30d35a-3e5c-47bc-ae22-4b89899f4138\",\"type\":\"LinearAxis\"}],\"plot_height\":250,\"plot_width\":250,\"renderers\":[{\"id\":\"bfe6a6e4-eb43-499d-83ab-3a880d32ae28\",\"type\":\"LinearAxis\"},{\"id\":\"a6e25137-1767-4e0f-9901-ded003162f5d\",\"type\":\"Grid\"},{\"id\":\"7e30d35a-3e5c-47bc-ae22-4b89899f4138\",\"type\":\"LinearAxis\"},{\"id\":\"0534c091-da38-4649-bb4e-99df5909eb5e\",\"type\":\"Grid\"},{\"id\":\"7ffc8b05-f28e-4337-a47e-cf865ea20136\",\"type\":\"BoxAnnotation\"},{\"id\":\"28c261e0-8c53-4534-b277-a6d0cfe6222f\",\"type\":\"GlyphRenderer\"}],\"title\":null,\"tool_events\":{\"id\":\"b3d94474-180a-4b4e-b5fe-1131a7a89eba\",\"type\":\"ToolEvents\"},\"toolbar\":{\"id\":\"a36e0537-8a13-4c16-9347-61a05f666f01\",\"type\":\"Toolbar\"},\"toolbar_location\":null,\"x_range\":{\"id\":\"9f51c16d-458e-40c6-94da-01def03350ee\",\"type\":\"DataRange1d\"},\"y_range\":{\"id\":\"fbd98b0b-f0d1-40cb-a050-d92f4aded552\",\"type\":\"DataRange1d\"}},\"id\":\"17b8c61c-a34a-4998-90c9-8532ec283b29\",\"subtype\":\"Figure\",\"type\":\"Plot\"},{\"attributes\":{\"bottom_units\":\"screen\",\"fill_alpha\":{\"value\":0.5},\"fill_color\":{\"value\":\"lightgrey\"},\"left_units\":\"screen\",\"level\":\"overlay\",\"line_alpha\":{\"value\":1.0},\"line_color\":{\"value\":\"black\"},\"line_dash\":[4,4],\"line_width\":{\"value\":2},\"plot\":null,\"render_mode\":\"css\",\"right_units\":\"screen\",\"top_units\":\"screen\"},\"id\":\"7ffc8b05-f28e-4337-a47e-cf865ea20136\",\"type\":\"BoxAnnotation\"},{\"attributes\":{\"plot\":{\"id\":\"0c89ca53-4083-437c-b52a-037f91392a71\",\"subtype\":\"Figure\",\"type\":\"Plot\"},\"ticker\":{\"id\":\"fe4a1f09-b0d2-4a8e-a53e-d796e6e32767\",\"type\":\"BasicTicker\"}},\"id\":\"b87f981a-531b-40ae-8a0a-79de6cd1199e\",\"type\":\"Grid\"},{\"attributes\":{\"plot\":{\"id\":\"db992e78-a905-4792-a3b6-ebed8c73edf2\",\"subtype\":\"Figure\",\"type\":\"Plot\"}},\"id\":\"2585dccf-b2b7-463a-a297-d1b129befe0c\",\"type\":\"SaveTool\"},{\"attributes\":{\"formatter\":{\"id\":\"a930be11-2bcb-4c9d-b709-6aec7363b923\",\"type\":\"BasicTickFormatter\"},\"plot\":{\"id\":\"db992e78-a905-4792-a3b6-ebed8c73edf2\",\"subtype\":\"Figure\",\"type\":\"Plot\"},\"ticker\":{\"id\":\"05531842-2c6e-4299-bcd6-c71c686223af\",\"type\":\"BasicTicker\"}},\"id\":\"062cd204-1100-4e6a-af04-47f2031720a3\",\"type\":\"LinearAxis\"},{\"attributes\":{},\"id\":\"dd38d60c-2c6c-4793-acb9-25605f358df1\",\"type\":\"BasicTickFormatter\"},{\"attributes\":{\"data_source\":{\"id\":\"ec59cc8c-ab4f-48d0-b7b7-8a391cf45bd6\",\"type\":\"ColumnDataSource\"},\"glyph\":{\"id\":\"7a602203-dad9-4068-a2e2-5121fbc1c41b\",\"type\":\"Square\"},\"hover_glyph\":null,\"nonselection_glyph\":{\"id\":\"da97d0c5-b6d8-4f38-9f74-4d54225b4bdc\",\"type\":\"Square\"},\"selection_glyph\":null},\"id\":\"982b503e-083a-4f54-a4e0-30b81d2488d8\",\"type\":\"GlyphRenderer\"},{\"attributes\":{\"plot\":{\"id\":\"0c89ca53-4083-437c-b52a-037f91392a71\",\"subtype\":\"Figure\",\"type\":\"Plot\"}},\"id\":\"08fa940c-4a81-40aa-bb9c-121fc1c5aa40\",\"type\":\"HelpTool\"},{\"attributes\":{\"plot\":{\"id\":\"db992e78-a905-4792-a3b6-ebed8c73edf2\",\"subtype\":\"Figure\",\"type\":\"Plot\"}},\"id\":\"4f8d2365-e453-4fa3-89c4-899d388c0789\",\"type\":\"WheelZoomTool\"},{\"attributes\":{},\"id\":\"fe067827-d96b-4c88-ba3c-a3c91c61e7b1\",\"type\":\"ToolEvents\"},{\"attributes\":{},\"id\":\"6f4b8e7f-424d-46fc-a61e-64363c9adce2\",\"type\":\"ToolEvents\"},{\"attributes\":{},\"id\":\"b3d94474-180a-4b4e-b5fe-1131a7a89eba\",\"type\":\"ToolEvents\"},{\"attributes\":{\"below\":[{\"id\":\"b02fef23-84bc-4c61-9b09-5c58b7e40f95\",\"type\":\"LinearAxis\"}],\"left\":[{\"id\":\"d2cf2de2-5da7-4d40-947b-56d1e5ca43e0\",\"type\":\"LinearAxis\"}],\"plot_height\":250,\"plot_width\":250,\"renderers\":[{\"id\":\"b02fef23-84bc-4c61-9b09-5c58b7e40f95\",\"type\":\"LinearAxis\"},{\"id\":\"b87f981a-531b-40ae-8a0a-79de6cd1199e\",\"type\":\"Grid\"},{\"id\":\"d2cf2de2-5da7-4d40-947b-56d1e5ca43e0\",\"type\":\"LinearAxis\"},{\"id\":\"854af64c-868a-44fe-b19d-94fdbce4d77f\",\"type\":\"Grid\"},{\"id\":\"84a6c420-7d79-4797-89f0-a279ff61d661\",\"type\":\"BoxAnnotation\"},{\"id\":\"982b503e-083a-4f54-a4e0-30b81d2488d8\",\"type\":\"GlyphRenderer\"}],\"title\":null,\"tool_events\":{\"id\":\"6f4b8e7f-424d-46fc-a61e-64363c9adce2\",\"type\":\"ToolEvents\"},\"toolbar\":{\"id\":\"a37c2d20-538b-46f2-a28b-42edcd23b133\",\"type\":\"Toolbar\"},\"toolbar_location\":null,\"x_range\":{\"id\":\"9f51c16d-458e-40c6-94da-01def03350ee\",\"type\":\"DataRange1d\"},\"y_range\":{\"id\":\"a757dd79-1707-4975-be80-08b080d30c50\",\"type\":\"DataRange1d\"}},\"id\":\"0c89ca53-4083-437c-b52a-037f91392a71\",\"subtype\":\"Figure\",\"type\":\"Plot\"},{\"attributes\":{\"plot\":{\"id\":\"17b8c61c-a34a-4998-90c9-8532ec283b29\",\"subtype\":\"Figure\",\"type\":\"Plot\"}},\"id\":\"e85a9a7d-5696-4d9b-bb11-feb7bf4e3154\",\"type\":\"HelpTool\"},{\"attributes\":{\"fill_alpha\":{\"value\":0.5},\"fill_color\":{\"value\":\"firebrick\"},\"line_alpha\":{\"value\":0.5},\"line_color\":{\"value\":\"firebrick\"},\"size\":{\"units\":\"screen\",\"value\":10},\"x\":{\"field\":\"x\"},\"y\":{\"field\":\"y\"}},\"id\":\"0801f92d-e535-49f0-8067-1b2ec55fabdb\",\"type\":\"Triangle\"},{\"attributes\":{\"plot\":{\"id\":\"0c89ca53-4083-437c-b52a-037f91392a71\",\"subtype\":\"Figure\",\"type\":\"Plot\"}},\"id\":\"3bf95c36-4960-4ab1-9ac3-3fab67716c8f\",\"type\":\"PanTool\"},{\"attributes\":{},\"id\":\"fe4a1f09-b0d2-4a8e-a53e-d796e6e32767\",\"type\":\"BasicTicker\"},{\"attributes\":{\"plot\":{\"id\":\"db992e78-a905-4792-a3b6-ebed8c73edf2\",\"subtype\":\"Figure\",\"type\":\"Plot\"}},\"id\":\"97de8fdf-1244-4a5c-b752-d0599f17cb03\",\"type\":\"HelpTool\"},{\"attributes\":{\"dimension\":1,\"plot\":{\"id\":\"0c89ca53-4083-437c-b52a-037f91392a71\",\"subtype\":\"Figure\",\"type\":\"Plot\"},\"ticker\":{\"id\":\"6602b010-aa71-4cc9-bf96-8354160e9a26\",\"type\":\"BasicTicker\"}},\"id\":\"854af64c-868a-44fe-b19d-94fdbce4d77f\",\"type\":\"Grid\"},{\"attributes\":{\"formatter\":{\"id\":\"39a33b43-6949-411c-92d0-1294c72a905f\",\"type\":\"BasicTickFormatter\"},\"plot\":{\"id\":\"0c89ca53-4083-437c-b52a-037f91392a71\",\"subtype\":\"Figure\",\"type\":\"Plot\"},\"ticker\":{\"id\":\"6602b010-aa71-4cc9-bf96-8354160e9a26\",\"type\":\"BasicTicker\"}},\"id\":\"d2cf2de2-5da7-4d40-947b-56d1e5ca43e0\",\"type\":\"LinearAxis\"},{\"attributes\":{\"plot\":{\"id\":\"17b8c61c-a34a-4998-90c9-8532ec283b29\",\"subtype\":\"Figure\",\"type\":\"Plot\"}},\"id\":\"391e0b96-cb5f-4fe8-96c8-4e60302e1b9a\",\"type\":\"WheelZoomTool\"},{\"attributes\":{\"bottom_units\":\"screen\",\"fill_alpha\":{\"value\":0.5},\"fill_color\":{\"value\":\"lightgrey\"},\"left_units\":\"screen\",\"level\":\"overlay\",\"line_alpha\":{\"value\":1.0},\"line_color\":{\"value\":\"black\"},\"line_dash\":[4,4],\"line_width\":{\"value\":2},\"plot\":null,\"render_mode\":\"css\",\"right_units\":\"screen\",\"top_units\":\"screen\"},\"id\":\"ab2a04f8-28f6-40d8-8516-1887496354d0\",\"type\":\"BoxAnnotation\"},{\"attributes\":{\"callback\":null},\"id\":\"fbd98b0b-f0d1-40cb-a050-d92f4aded552\",\"type\":\"DataRange1d\"},{\"attributes\":{\"fill_alpha\":{\"value\":0.1},\"fill_color\":{\"value\":\"#1f77b4\"},\"line_alpha\":{\"value\":0.1},\"line_color\":{\"value\":\"#1f77b4\"},\"size\":{\"units\":\"screen\",\"value\":10},\"x\":{\"field\":\"x\"},\"y\":{\"field\":\"y\"}},\"id\":\"da97d0c5-b6d8-4f38-9f74-4d54225b4bdc\",\"type\":\"Square\"},{\"attributes\":{\"active_drag\":\"auto\",\"active_scroll\":\"auto\",\"active_tap\":\"auto\",\"tools\":[{\"id\":\"42c594fd-baa8-4683-8819-e35841424e18\",\"type\":\"PanTool\"},{\"id\":\"4f8d2365-e453-4fa3-89c4-899d388c0789\",\"type\":\"WheelZoomTool\"},{\"id\":\"60c232cf-02fc-43c4-ac7a-1b2381acf15a\",\"type\":\"BoxZoomTool\"},{\"id\":\"2585dccf-b2b7-463a-a297-d1b129befe0c\",\"type\":\"SaveTool\"},{\"id\":\"9de7dc53-e535-4785-8c78-bcf15f2277a0\",\"type\":\"ResetTool\"},{\"id\":\"97de8fdf-1244-4a5c-b752-d0599f17cb03\",\"type\":\"HelpTool\"}]},\"id\":\"2747242e-2225-46de-8f5c-529d4a78138a\",\"type\":\"Toolbar\"},{\"attributes\":{\"fill_alpha\":{\"value\":0.1},\"fill_color\":{\"value\":\"#1f77b4\"},\"line_alpha\":{\"value\":0.1},\"line_color\":{\"value\":\"#1f77b4\"},\"size\":{\"units\":\"screen\",\"value\":10},\"x\":{\"field\":\"x\"},\"y\":{\"field\":\"y\"}},\"id\":\"cfe26427-7c84-4423-a0d8-b1c044557e98\",\"type\":\"Circle\"},{\"attributes\":{\"data_source\":{\"id\":\"b72e78cd-7056-4221-9d8b-540a16b63879\",\"type\":\"ColumnDataSource\"},\"glyph\":{\"id\":\"1436d531-46a5-4051-9466-c76370c9f378\",\"type\":\"Circle\"},\"hover_glyph\":null,\"nonselection_glyph\":{\"id\":\"cfe26427-7c84-4423-a0d8-b1c044557e98\",\"type\":\"Circle\"},\"selection_glyph\":null},\"id\":\"28c261e0-8c53-4534-b277-a6d0cfe6222f\",\"type\":\"GlyphRenderer\"},{\"attributes\":{\"plot\":{\"id\":\"17b8c61c-a34a-4998-90c9-8532ec283b29\",\"subtype\":\"Figure\",\"type\":\"Plot\"}},\"id\":\"f302f96e-41b1-4e8d-a63d-274d159e3a01\",\"type\":\"ResetTool\"},{\"attributes\":{\"callback\":null},\"id\":\"9f51c16d-458e-40c6-94da-01def03350ee\",\"type\":\"DataRange1d\"},{\"attributes\":{\"overlay\":{\"id\":\"ab2a04f8-28f6-40d8-8516-1887496354d0\",\"type\":\"BoxAnnotation\"},\"plot\":{\"id\":\"db992e78-a905-4792-a3b6-ebed8c73edf2\",\"subtype\":\"Figure\",\"type\":\"Plot\"}},\"id\":\"60c232cf-02fc-43c4-ac7a-1b2381acf15a\",\"type\":\"BoxZoomTool\"},{\"attributes\":{\"plot\":{\"id\":\"0c89ca53-4083-437c-b52a-037f91392a71\",\"subtype\":\"Figure\",\"type\":\"Plot\"}},\"id\":\"526463d1-0f96-49a8-ba23-b0bb768d7c26\",\"type\":\"ResetTool\"}],\"root_ids\":[\"eef6aaf8-b63e-46bf-9a3b-b908d2ae8f1f\"]},\"title\":\"Bokeh Application\",\"version\":\"0.12.4\"}};\n",
       "            var render_items = [{\"docid\":\"53a769a0-36cb-4c84-938d-55e3de19844d\",\"elementid\":\"bedca155-8bb6-4692-8c21-bc738817cf69\",\"modelid\":\"eef6aaf8-b63e-46bf-9a3b-b908d2ae8f1f\"}];\n",
       "            \n",
       "            Bokeh.embed.embed_items(docs_json, render_items);\n",
       "          };\n",
       "          if (document.readyState != \"loading\") fn();\n",
       "          else document.addEventListener(\"DOMContentLoaded\", fn);\n",
       "        })();\n",
       "      },\n",
       "      function(Bokeh) {\n",
       "      }\n",
       "    ];\n",
       "  \n",
       "    function run_inline_js() {\n",
       "      \n",
       "      if ((window.Bokeh !== undefined) || (force === true)) {\n",
       "        for (var i = 0; i < inline_js.length; i++) {\n",
       "          inline_js[i](window.Bokeh);\n",
       "        }if (force === true) {\n",
       "          display_loaded();\n",
       "        }} else if (Date.now() < window._bokeh_timeout) {\n",
       "        setTimeout(run_inline_js, 100);\n",
       "      } else if (!window._bokeh_failed_load) {\n",
       "        console.log(\"Bokeh: BokehJS failed to load within specified timeout.\");\n",
       "        window._bokeh_failed_load = true;\n",
       "      } else if (force !== true) {\n",
       "        var cell = $(document.getElementById(\"bedca155-8bb6-4692-8c21-bc738817cf69\")).parents('.cell').data().cell;\n",
       "        cell.output_area.append_execute_result(NB_LOAD_WARNING)\n",
       "      }\n",
       "  \n",
       "    }\n",
       "  \n",
       "    if (window._bokeh_is_loading === 0) {\n",
       "      console.log(\"Bokeh: BokehJS loaded, going straight to plotting\");\n",
       "      run_inline_js();\n",
       "    } else {\n",
       "      load_libs(js_urls, function() {\n",
       "        console.log(\"Bokeh: BokehJS plotting callback run at\", now());\n",
       "        run_inline_js();\n",
       "      });\n",
       "    }\n",
       "  }(this));\n",
       "</script>"
      ]
     },
     "metadata": {},
     "output_type": "execute_result"
    }
   ],
   "source": [
    "p = gridplot([[s1, s2, s3]], toolbar_location=None)\n",
    "\n",
    "# show the results\n",
    "show(p)\n",
    "\n",
    "# pan the plots below"
   ]
  },
  {
   "cell_type": "code",
   "execution_count": null,
   "metadata": {
    "collapsed": true
   },
   "outputs": [],
   "source": [
    ""
   ]
  },
  {
   "cell_type": "code",
   "execution_count": 11,
   "metadata": {
    "collapsed": false
   },
   "outputs": [],
   "source": [
    ""
   ]
  },
  {
   "cell_type": "code",
   "execution_count": null,
   "metadata": {
    "collapsed": true
   },
   "outputs": [],
   "source": [
    ""
   ]
  }
 ],
 "metadata": {
  "kernelspec": {
   "display_name": "Python 2",
   "language": "python",
   "name": "python2"
  },
  "language_info": {
   "codemirror_mode": {
    "name": "ipython",
    "version": 2.0
   },
   "file_extension": ".py",
   "mimetype": "text/x-python",
   "name": "python",
   "nbconvert_exporter": "python",
   "pygments_lexer": "ipython2",
   "version": "2.7.9"
  }
 },
 "nbformat": 4,
 "nbformat_minor": 0
}